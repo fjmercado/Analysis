{
 "cells": [
  {
   "cell_type": "code",
   "execution_count": 6,
   "metadata": {},
   "outputs": [],
   "source": [
    "import numpy as np\n",
    "import halotools.empirical_models as ht\n",
    "from astropy.cosmology import FlatLambdaCDM\n",
    "#cosmo = FlatLambdaCDM(H0=70, Om0=0.3) set the cosmo parameters used in LATTE"
   ]
  },
  {
   "cell_type": "markdown",
   "metadata": {},
   "source": [
    "### NFW profile class provides you with a PDF for the halo which you can use to draw random radial points from (using the mc_generate_nfw_radial_positions function) to help create your toy halo."
   ]
  },
  {
   "cell_type": "code",
   "execution_count": 14,
   "metadata": {},
   "outputs": [],
   "source": [
    "nfw = ht.NFWProfile()\n",
    "r = nfw.mc_generate_nfw_radial_positions(seed=123, num_pts=1000000, halo_mass = 1e12, conc = 10) #Gives radii in Mpc/h"
   ]
  },
  {
   "cell_type": "code",
   "execution_count": 15,
   "metadata": {},
   "outputs": [],
   "source": [
    "r = r* 1000 #Should devide by whatever h is in the sim"
   ]
  },
  {
   "cell_type": "markdown",
   "metadata": {},
   "source": [
    "### Now all you need to do is use these r values to generate 3D coords by drawing randomly between PHI = [0-2*pi] and cos"
   ]
  }
 ],
 "metadata": {
  "kernelspec": {
   "display_name": "Python 3",
   "language": "python",
   "name": "python3"
  },
  "language_info": {
   "codemirror_mode": {
    "name": "ipython",
    "version": 3
   },
   "file_extension": ".py",
   "mimetype": "text/x-python",
   "name": "python",
   "nbconvert_exporter": "python",
   "pygments_lexer": "ipython3",
   "version": "3.7.1"
  }
 },
 "nbformat": 4,
 "nbformat_minor": 2
}
